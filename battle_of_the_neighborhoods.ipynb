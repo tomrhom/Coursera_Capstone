{
 "cells": [
  {
   "cell_type": "markdown",
   "metadata": {},
   "source": [
    "## The Battle of the Neighborhoods"
   ]
  },
  {
   "cell_type": "markdown",
   "metadata": {},
   "source": [
    "Thomas Rhomberg  \n",
    "2/19/2021"
   ]
  },
  {
   "cell_type": "markdown",
   "metadata": {},
   "source": [
    "### Introduction:  \n",
    "The purpose of this project is to help someone understand where would be the ideal place to open a new restaurant in Toronto. This project will analyze several neighborhoods in the city of Toronto and determine which neighborhoods would be best suited for a new restaurant based on factors such as: proximity to other restaurants, residential areas, shopping stores, etc. (Add more)  \n",
    "\n"
   ]
  },
  {
   "cell_type": "markdown",
   "metadata": {
    "collapsed": true
   },
   "source": [
    "### Business Problem:  \n",
    "The aim of this project is to analyze various neighborhoods in the city of Toronto and determine the best neighborhoods to open a new restaurant. This analysis could also be beneficial to someone who wants to find the neighborhood with their favorite types of restaurants in order to find where they want to eat. The findings of this project will allow stakeholders to determine which neighborhoods are most in need of a new restaurant and which neighborhoods have an abundance of restaurants ready to serve customers.  "
   ]
  },
  {
   "cell_type": "markdown",
   "metadata": {},
   "source": [
    "### Data Description:  \n",
    "We will be using geographical location data from the city of Toronto for this project. To find the correct neighborhoods, boroughs and venues, we will use Postal codes.  \n",
    "#### Toronto:  \n",
    "To get postal code data for the city of Toronto, we will scrape data from https://en.wikipedia.org/wiki/List_of_areas_of_Toronto  \n",
    "From this page, we get the name of the neighborhood, name of the borough, and postal code. Because there is no geographical coordinates in this table, we need to get that data elsewhere.  \n",
    "#### Geographic Data:  \n",
    "To include the geographical coordinates for each neighborhood and to allow for mapping, we get the data from http://cocl.us/Geospatial_data where we download a CSV. This link was provided in an earlier portion of the Capstone Project on Coursera.  \n",
    "#### Foursquare API Data:  \n",
    "In order to get information about venues in each neighborhood of Toronto, we will use the Foursquare API to pull location information. The information we can get from the Foursquare API includes venue names, locations, menus and photos. \n",
    "Such information includes venue names, locations, menus and even photos. As such, the foursquare location platform will be used as the sole data source since all the stated required information can be obtained through the API.  \n",
    "\n",
    "After getting a list of neighborhoods from the previous two sources, we join it with the Foursquare data to learn about the different venues within each neighborhood.  \n",
    "\n",
    "The data retrieved from Foursquare contained information of venues within a specified distance of the longitude and latitude of the postcodes. The following information is provided for each venue:  \n",
    "\n",
    "1. *Neighbourhood*: Name of the Neighbourhood\n",
    "2. *Neighbourhood Latitude*: Latitude of the Neighbourhood\n",
    "3. *Neighbourhood Longitude*: Longitude of the Neighbourhood\n",
    "4. *Venue*: Name of the Venue\n",
    "5. *Venue Latitude*: Latitude of Venue\n",
    "6. *Venue Longitude*: Longitude of Venue\n",
    "7. *Venue Category*: Category of Venue  \n",
    "\n",
    "After collecting all of this information for the city of Toronto, we will begin to build our model. Then we will cluster the neighborhoods based on the various venues in each. We will use those clusters to determine which neighborhoods are best for the opening of a new restaurant.  "
   ]
  }
 ],
 "metadata": {
  "kernelspec": {
   "display_name": "Python 3",
   "language": "python",
   "name": "python3"
  },
  "language_info": {
   "codemirror_mode": {
    "name": "ipython",
    "version": 3
   },
   "file_extension": ".py",
   "mimetype": "text/x-python",
   "name": "python",
   "nbconvert_exporter": "python",
   "pygments_lexer": "ipython3",
   "version": "3.6.1"
  }
 },
 "nbformat": 4,
 "nbformat_minor": 2
}
